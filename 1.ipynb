{
 "cells": [
  {
   "cell_type": "code",
   "execution_count": 2,
   "metadata": {},
   "outputs": [],
   "source": [
    "import nltk\n",
    "from nltk.tokenize import word_tokenize\n",
    "from nltk.corpus import stopwords\n",
    "from nltk.stem import PorterStemmer\n",
    "import subprocess\n",
    "import os\n",
    "import psutil\n",
    "import signal\n",
    "import random"
   ]
  },
  {
   "cell_type": "code",
   "execution_count": 3,
   "metadata": {},
   "outputs": [
    {
     "name": "stderr",
     "output_type": "stream",
     "text": [
      "[nltk_data] Downloading package punkt to /home/ambhi/nltk_data...\n",
      "[nltk_data]   Unzipping tokenizers/punkt.zip.\n",
      "[nltk_data] Downloading package stopwords to /home/ambhi/nltk_data...\n",
      "[nltk_data]   Unzipping corpora/stopwords.zip.\n"
     ]
    }
   ],
   "source": [
    "nltk.download('punkt')\n",
    "nltk.download('stopwords')\n",
    "running_processes = []"
   ]
  },
  {
   "cell_type": "markdown",
   "metadata": {},
   "source": [
    "#### Training Data"
   ]
  },
  {
   "cell_type": "code",
   "execution_count": 4,
   "metadata": {},
   "outputs": [],
   "source": [
    "training_data = [\n",
    "    (\"Can I join the meeting room?\", \"joining\"),\n",
    "    (\"Is there any available room?\", \"joining\"),\n",
    "    (\"Can I be part of this room?\", \"joining\"),\n",
    "    (\"I want to leave the conference room.\", \"leaving\"),\n",
    "    (\"Leaving the room now.\", \"leaving\"),\n",
    "    (\"I'm done with this meeting room.\", \"leaving\"),\n",
    "    (\"Create a new chat room.\", \"creating\"),\n",
    "    (\"Can you help me create a room?\", \"creating\"),\n",
    "    (\"Let's create a private room for our team.\", \"creating\"),\n",
    "]"
   ]
  },
  {
   "cell_type": "code",
   "execution_count": 5,
   "metadata": {},
   "outputs": [],
   "source": [
    "additional_training_data = [\n",
    "    (\"How do I join the video call?\", \"joining\"),\n",
    "    (\"Is there a way to enter the meeting room?\", \"joining\"),\n",
    "    (\"Can you add me to the group?\", \"joining\"),\n",
    "    (\"Exiting the virtual conference.\", \"leaving\"),\n",
    "    (\"I need to leave the call now.\", \"leaving\"),\n",
    "    (\"Leaving the chat room.\", \"leaving\"),\n",
    "    (\"Create a new public chat room.\", \"creating\"),\n",
    "    (\"Let's create a channel for discussions.\", \"creating\"),\n",
    "    (\"I want to create a separate room for this project.\", \"creating\"),\n",
    "    (\"How do I mute myself in the meeting?\", \"joining\"),\n",
    "    (\"I want to mute my audio during the conference.\", \"joining\"),\n",
    "    (\"How do I turn off my video?\", \"joining\"),\n",
    "    (\"Can we end the call now?\", \"leaving\"),\n",
    "    (\"I'm ending the meeting.\", \"leaving\"),\n",
    "    (\"Let's finish this conference.\", \"leaving\"),\n",
    "    (\"Create a new voice call room.\", \"creating\"),\n",
    "    (\"Can you make a room for a one-on-one call?\", \"creating\"),\n",
    "    (\"I need to set up a meeting room for the team.\", \"creating\"),\n",
    "    (\"How do I share my screen?\", \"joining\"),\n",
    "    (\"Can you show me how to share the screen in the meeting?\", \"joining\"),\n",
    "    (\"I want to share my screen with the group.\", \"joining\"),\n",
    "]\n",
    "additional_training_data1 = [\n",
    "    (\"How do I delete a chatroom?\", \"deleting\"),\n",
    "    (\"Is there a way to remove a chatroom?\", \"deleting\"),\n",
    "    (\"Can you help me delete a group?\", \"deleting\"),\n",
    "    (\"Closing the chatroom.\", \"deleting\"),\n",
    "    (\"I need to remove this chatroom.\", \"deleting\"),\n",
    "    (\"Deleting the group chat.\", \"deleting\"),\n",
    "    (\"How can I archive a chatroom?\", \"deleting\"),\n",
    "    (\"Can you show me the steps to delete a chatroom?\", \"deleting\"),\n",
    "    (\"I want to close this room permanently.\", \"deleting\"),\n",
    "]\n",
    "\n",
    "training_data = training_data + additional_training_data + additional_training_data1\n",
    "random.shuffle(training_data)\n"
   ]
  },
  {
   "cell_type": "markdown",
   "metadata": {},
   "source": [
    "#### Preprocessing Data and Training"
   ]
  },
  {
   "cell_type": "code",
   "execution_count": 6,
   "metadata": {},
   "outputs": [],
   "source": [
    "def preprocess_text(text):\n",
    "    tokens = word_tokenize(text.lower())\n",
    "\n",
    "    stop_words = set(stopwords.words('english'))\n",
    "    filtered_tokens = [token for token in tokens if token not in stop_words]\n",
    "\n",
    "    stemmer = PorterStemmer()\n",
    "    stemmed_tokens = [stemmer.stem(token) for token in filtered_tokens]\n",
    "\n",
    "    return stemmed_tokens\n",
    "\n",
    "def extract_features(text):\n",
    "    return {word: True for word in preprocess_text(text)}\n",
    "\n",
    "training_set = [(extract_features(text), intent) for text, intent in training_data]\n",
    "classifier = nltk.NaiveBayesClassifier.train(training_set)\n"
   ]
  },
  {
   "cell_type": "code",
   "execution_count": 7,
   "metadata": {},
   "outputs": [],
   "source": [
    "def predict_intent(text):\n",
    "    features = extract_features(text)\n",
    "    return classifier.classify(features)"
   ]
  },
  {
   "cell_type": "markdown",
   "metadata": {},
   "source": [
    "#### Subprocesses"
   ]
  },
  {
   "cell_type": "code",
   "execution_count": 8,
   "metadata": {},
   "outputs": [],
   "source": [
    "def run_ffmpeg_command(room_name, video_sock, audio_sock):\n",
    "    command = ['./ffmpeg-connect.sh', video_sock, audio_sock]\n",
    "    try:\n",
    "        process = subprocess.Popen(command, stdout=subprocess.PIPE, stderr=subprocess.PIPE)\n",
    "        running_processes.append(process.pid)\n",
    "        print(f\"{room_name} - Video and audio connected.\")\n",
    "    except subprocess.CalledProcessError as e:\n",
    "        print(f\"Error connecting video and audio for {room_name}: {e.stderr.decode('utf-8')}\")\n",
    "\n",
    "def join_room_script(room_name, video_sock, audio_sock):\n",
    "    command = ['./join-room-script.sh', room_name, video_sock, audio_sock]\n",
    "    try:\n",
    "        process = subprocess.Popen(command, stdout=subprocess.PIPE, stderr=subprocess.PIPE)\n",
    "        running_processes.append(process.pid)\n",
    "        print(f\"{room_name} - Joined the room.\")\n",
    "    except subprocess.CalledProcessError as e:\n",
    "        print(f\"Error joining the room {room_name}: {e.stderr.decode('utf-8')}\")\n",
    "\n",
    "def create_room_script(room_name):\n",
    "    command = ['./create-room-script.sh',room_name]\n",
    "    try:\n",
    "        process = subprocess.Popen(command, stdout=subprocess.PIPE, stderr=subprocess.PIPE)\n",
    "        running_processes.append(process.pid)\n",
    "        print(f\"{room_name} - Room Creating\")\n",
    "    except subprocess.CalledProcessError as e:\n",
    "        print(f\"{room_name} - Error joining the room\")\n",
    "\n",
    "def delete_room_script(room_name):\n",
    "    command = ['./delete-room-script.sh', room_name]\n",
    "    try:\n",
    "        process = subprocess.Popen(command, stdout=subprocess.PIPE, stderr=subprocess.PIPE)\n",
    "        running_processes.append(process.pid)\n",
    "        print(f\"{room_name} - Deleted\")\n",
    "    except subprocess.CalledProcessError as e:\n",
    "        print(f\"Error deleting the room {room_name}: {e.stderr.decode('utf-8')}\")\n"
   ]
  },
  {
   "cell_type": "code",
   "execution_count": 9,
   "metadata": {},
   "outputs": [],
   "source": [
    "def kill_process_by_name(process_name):\n",
    "    for process in psutil.process_iter(['pid', 'name']):\n",
    "        if process.info['name'] == process_name:\n",
    "            try:\n",
    "                os.kill(process.pid, signal.SIGKILL)\n",
    "                process.terminate()\n",
    "            except psutil.NoSuchProcess:\n",
    "                pass  \n",
    "            except psutil.AccessDenied:\n",
    "                print(f\"Access denied to terminate process '{process_name}'.\")\n",
    "            else:\n",
    "                print(f\"Process '{process_name}' terminated.\")"
   ]
  },
  {
   "cell_type": "code",
   "execution_count": 13,
   "metadata": {},
   "outputs": [],
   "source": [
    "def handle_joining():\n",
    "    run_ffmpeg_command(\"TheView\",\"/tmp/myvideo.sock\",\"/tmp/myaudio.sock\")\n",
    "    join_room_script(\"TheView\",\"/tmp/myvideo.sock\",\"/tmp/myaudio.sock\")\n",
    "    print(\"Joined!!\")\n",
    "\n",
    "def handle_creating():\n",
    "    create_room_script(\"TheView\")\n",
    "    print(\"Created\")\n",
    "\n",
    "def handle_leaving():\n",
    "    kill_process_by_name(\"livekit-cli\")\n",
    "    kill_process_by_name(\"ffmpeg-connect.sh\")\n",
    "    kill_process_by_name(\"join-room-script.sh\")\n",
    "    running_processes.clear()\n",
    "    print(\"Left\")\n",
    "\n",
    "def handle_deleting():\n",
    "    delete_room_script(\"TheView\")\n",
    "    handle_leaving()\n",
    "    kill_process_by_name(\"delete-room-script.sh\")\n",
    "    print(\"Deleted\")\n",
    "\n",
    "\n",
    "def invoke_command(predicted_intent):\n",
    "    \n",
    "    if predicted_intent == \"joining\":\n",
    "        handle_joining()\n",
    "    elif predicted_intent == \"creating\":\n",
    "        handle_creating()\n",
    "    elif predicted_intent == \"leaving\":\n",
    "        handle_leaving()\n",
    "    elif predicted_intent == \"deleting\":\n",
    "        handle_deleting()\n",
    "    else:\n",
    "        print(\"I do not understand!\")"
   ]
  },
  {
   "cell_type": "markdown",
   "metadata": {},
   "source": [
    "#### Input"
   ]
  },
  {
   "cell_type": "code",
   "execution_count": 14,
   "metadata": {},
   "outputs": [
    {
     "name": "stdout",
     "output_type": "stream",
     "text": [
      "Predicted Intent: joining\n",
      "TheView - Video and audio connected.\n",
      "TheView - Joined the room.\n",
      "Joined!!\n",
      "Predicted Intent: leaving\n",
      "Process 'livekit-cli' terminated.\n",
      "Process 'livekit-cli' terminated.\n",
      "Left\n",
      "Predicted Intent: leaving\n",
      "Left\n",
      "Predicted Intent: deleting\n",
      "TheView - Deleted\n",
      "Left\n",
      "Deleted\n",
      "Predicted Intent: creating\n",
      "TheView - Room Creating\n",
      "Created\n",
      "Predicted Intent: joining\n",
      "TheView - Video and audio connected.\n",
      "TheView - Joined the room.\n",
      "Joined!!\n",
      "Predicted Intent: deleting\n",
      "TheView - Deleted\n",
      "Process 'livekit-cli' terminated.\n",
      "Left\n",
      "Deleted\n"
     ]
    }
   ],
   "source": [
    "while True:\n",
    "    user_input = input(\"Enter prompt: \")\n",
    "    if user_input == \"break\":\n",
    "        break\n",
    "    predicted_intent = predict_intent(user_input)\n",
    "    print(\"Predicted Intent:\", predicted_intent)\n",
    "    invoke_command(predicted_intent)"
   ]
  }
 ],
 "metadata": {
  "kernelspec": {
   "display_name": "Python 3",
   "language": "python",
   "name": "python3"
  },
  "language_info": {
   "codemirror_mode": {
    "name": "ipython",
    "version": 3
   },
   "file_extension": ".py",
   "mimetype": "text/x-python",
   "name": "python",
   "nbconvert_exporter": "python",
   "pygments_lexer": "ipython3",
   "version": "3.10.7"
  },
  "orig_nbformat": 4
 },
 "nbformat": 4,
 "nbformat_minor": 2
}
